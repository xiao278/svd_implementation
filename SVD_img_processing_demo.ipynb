{
 "cells": [
  {
   "cell_type": "code",
   "execution_count": 7,
   "metadata": {},
   "outputs": [],
   "source": [
    "import numpy as np\n",
    "from PIL import Image\n",
    "import matplotlib.pyplot as plt\n",
    "import ipywidgets as widgets\n",
    "from IPython.display import display\n",
    "from basic_SVD import find_SVD\n",
    "from basic_SVD import recombine_SVD\n"
   ]
  },
  {
   "cell_type": "code",
   "execution_count": null,
   "metadata": {},
   "outputs": [],
   "source": [
    "img_path = \"fish.jpeg\"\n",
    "image_array = np.array(Image.open(img_path))\n",
    "image_R = image_array[:, :, 0]  # Red channel\n",
    "image_G = image_array[:, :, 1]  # Green channel\n",
    "image_B = image_array[:, :, 2]  # Blue channel\n",
    "image_grayscale = np.dot(image_array[..., :3], [0.2989, 0.5870, 0.1140])\n",
    "# plt.imshow(image_grayscale, cmap='gray')\n",
    "plt.imshow(image_array)"
   ]
  },
  {
   "cell_type": "code",
   "execution_count": 9,
   "metadata": {},
   "outputs": [],
   "source": [
    "U, S, V = find_SVD(image_grayscale)\n",
    "\n",
    "U_r, S_r, V_r = find_SVD(image_R)\n",
    "U_g, S_g, V_g = find_SVD(image_G)\n",
    "U_b, S_b, V_b = find_SVD(image_B)\n",
    "\n",
    "m = image_array.shape[0]\n",
    "n = image_array.shape[1]\n",
    "# reduced_image = recombine_SVD(U, S, V, 50)\n",
    "# plt.imshow(reduced_image, cmap=\"gray\")"
   ]
  },
  {
   "cell_type": "code",
   "execution_count": null,
   "metadata": {},
   "outputs": [],
   "source": [
    "\n",
    "\n",
    "# Create a slider\n",
    "slider = widgets.IntSlider(\n",
    "    value=50,          # Initial value\n",
    "    min=1,             # Minimum value\n",
    "    max=min(m,n),           # Maximum value\n",
    "    step=1,            # Step size\n",
    "    description='Value:',  # Label for the slider\n",
    "    continuous_update=True, # Update the value continuously as the slider moves\n",
    "    layout=widgets.Layout(width='60%')\n",
    ")\n",
    "\n",
    "checkbox = widgets.Checkbox(\n",
    "    value=False,  # Default value (unchecked)\n",
    "    description='Colored',  # Label for the checkbox\n",
    "    disabled=False  # If True, the checkbox will be grayed out\n",
    ")\n",
    "\n",
    "def show_reduced_gray_image(k):\n",
    "    image = recombine_SVD(U, S, V, k)\n",
    "    plt.imshow(image, cmap='gray')\n",
    "    plt.axis('off')  # Turn off the axes\n",
    "    plt.show()\n",
    "\n",
    "def show_reduced_color_image(k):\n",
    "    image_r = recombine_SVD(U_r, S_r, V_r, k).astype(np.uint8)\n",
    "    image_g = recombine_SVD(U_g, S_g, V_g, k).astype(np.uint8)\n",
    "    image_b = recombine_SVD(U_b, S_b, V_b, k).astype(np.uint8)\n",
    "    image_rgb = np.stack((image_r, image_g, image_b), axis=-1)\n",
    "    plt.imshow(image_rgb, cmap='gray')\n",
    "    plt.axis('off')  # Turn off the axes\n",
    "    plt.show()\n",
    "\n",
    "def show_reduced_image(k, isColor):\n",
    "    if isColor:\n",
    "        show_reduced_color_image(k)\n",
    "    else:\n",
    "        show_reduced_gray_image(k)\n",
    "\n",
    "# Display the slider\n",
    "interactive_plot = widgets.interactive(show_reduced_image, k=slider, isColor=checkbox)\n",
    "display(interactive_plot)"
   ]
  }
 ],
 "metadata": {
  "kernelspec": {
   "display_name": "Python 3",
   "language": "python",
   "name": "python3"
  },
  "language_info": {
   "codemirror_mode": {
    "name": "ipython",
    "version": 3
   },
   "file_extension": ".py",
   "mimetype": "text/x-python",
   "name": "python",
   "nbconvert_exporter": "python",
   "pygments_lexer": "ipython3",
   "version": "3.11.10"
  }
 },
 "nbformat": 4,
 "nbformat_minor": 2
}
